{
 "cells": [
  {
   "cell_type": "code",
   "execution_count": null,
   "metadata": {},
   "outputs": [
    {
     "name": "stdout",
     "output_type": "stream",
     "text": [
      "Welcome to the Salary Prediction App!\n",
      "Enter years of experience (greater than 10, 'q' to quit): 13\n",
      "Based on 13.0 years of experience, the predicted salary is: $147831.18\n",
      "Enter years of experience (greater than 10, 'q' to quit): 11.5\n",
      "Based on 11.5 years of experience, the predicted salary is: $133695.46\n",
      "Enter years of experience (greater than 10, 'q' to quit): 0\n",
      "Please enter a value greater than 10.\n",
      "Enter years of experience (greater than 10, 'q' to quit): q\n",
      "Invalid input. Please enter a valid number.\n"
     ]
    }
   ],
   "source": [
    "import joblib\n",
    "import numpy as np\n",
    "\n",
    "# Load the saved model\n",
    "model_filename = 'salary_prediction_model.joblib'\n",
    "model = joblib.load(model_filename)\n",
    "\n",
    "def predict_salary(years_of_experience):\n",
    "    # Predict the salary using the loaded model\n",
    "    predicted_salary = model.predict([[years_of_experience]])[0]\n",
    "    return predicted_salary\n",
    "\n",
    "def main():\n",
    "    print(\"Welcome to the Salary Prediction App!\")\n",
    "    while True:\n",
    "        try:\n",
    "            years_of_experience = float(input(\"Enter years of experience (greater than 10, 'q' to quit): \"))\n",
    "            if years_of_experience == 'q':\n",
    "                print(\"Thank you for using the app. Goodbye!\")\n",
    "                break\n",
    "\n",
    "            if years_of_experience <= 10:\n",
    "                print(\"Please enter a value greater than 10.\")\n",
    "            else:\n",
    "                predicted_salary = predict_salary(years_of_experience)\n",
    "                print(f\"Based on {years_of_experience} years of experience, the predicted salary is: ${predicted_salary:.2f}\")\n",
    "        except ValueError:\n",
    "            print(\"Invalid input. Please enter a valid number.\")\n",
    "\n",
    "if __name__ == \"__main__\":\n",
    "    main()\n"
   ]
  },
  {
   "cell_type": "code",
   "execution_count": null,
   "metadata": {},
   "outputs": [],
   "source": [
    "\n",
    "# Load the saved model\n",
    "model_filename = 'salary_prediction_model.joblib'\n",
    "model = joblib.load(model_filename)\n",
    "\n",
    "def predict_salary(years_of_experience):\n",
    "    # Predict the salary using the loaded model\n",
    "    predicted_salary = model.predict([[years_of_experience]])[0]\n",
    "    return predicted_salary\n",
    "\n",
    "def main():\n",
    "    print(\"Welcome to the Salary Prediction App!\")\n",
    "    while True:\n",
    "        try:\n",
    "            years_of_experience = input(\"Enter years of experience ('q' to quit): \")\n",
    "            if years_of_experience == 'q':\n",
    "                print(\"Thank you for using the app. Goodbye!\")\n",
    "                break\n",
    "\n",
    "            years_of_experience = float(years_of_experience)\n",
    "            if years_of_experience < 0:\n",
    "                print(\"Please enter a non-negative value.\")\n",
    "            else:\n",
    "                predicted_salary = predict_salary(years_of_experience)\n",
    "                print(f\"Based on {years_of_experience} years of experience, the predicted salary is: ${predicted_salary:.2f}\")\n",
    "        except ValueError:\n",
    "            print(\"Invalid input. Please enter a valid number.\")\n",
    "\n",
    "if __name__ == \"__main__\":\n",
    "    main()"
   ]
  },
  {
   "cell_type": "code",
   "execution_count": null,
   "metadata": {},
   "outputs": [],
   "source": [
    "salary_prediction_app.py"
   ]
  },
  {
   "cell_type": "code",
   "execution_count": null,
   "metadata": {},
   "outputs": [],
   "source": []
  }
 ],
 "metadata": {
  "kernelspec": {
   "display_name": "Python 3",
   "language": "python",
   "name": "python3"
  },
  "language_info": {
   "codemirror_mode": {
    "name": "ipython",
    "version": 3
   },
   "file_extension": ".py",
   "mimetype": "text/x-python",
   "name": "python",
   "nbconvert_exporter": "python",
   "pygments_lexer": "ipython3",
   "version": "3.7.4"
  }
 },
 "nbformat": 4,
 "nbformat_minor": 2
}
